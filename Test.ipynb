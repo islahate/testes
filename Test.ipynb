{
 "cells": [
  {
   "cell_type": "markdown",
   "id": "b306286c",
   "metadata": {},
   "source": [
    "![This is an image](https://iwaco.ma/webroot/style/images/logo.png)\n",
    "\n",
    "# Test iwaco"
   ]
  },
  {
   "cell_type": "markdown",
   "id": "afc459c9",
   "metadata": {},
   "source": [
    "## Partie I\n",
    "### Informations générales"
   ]
  },
  {
   "cell_type": "markdown",
   "id": "fce0ebad",
   "metadata": {},
   "source": [
    "1. Nom et prénom <input style=\"width: 250px\" />"
   ]
  },
  {
   "cell_type": "markdown",
   "id": "dfd989bd",
   "metadata": {},
   "source": [
    "2. Vous habitez à <input  style=\"width: 250px\"  />"
   ]
  },
  {
   "cell_type": "markdown",
   "id": "a130e113",
   "metadata": {},
   "source": [
    "3. Actuallement vous\n",
    "    1. [x] Travaillez\n",
    "    2. [ ] Etudiez\n",
    "    3. [ ] Etes en Stage\n",
    "    4. [ ] En recherche active"
   ]
  },
  {
   "cell_type": "markdown",
   "id": "7d35753b",
   "metadata": {},
   "source": [
    "4. Vous voulez travailler en tant que\n",
    "    1. [ ] developpeur frontend\n",
    "    2. [x] developpeur backend\n",
    "    3. [x] developpeur mobile"
   ]
  },
  {
   "cell_type": "markdown",
   "id": "40013554",
   "metadata": {},
   "source": [
    "5. combien d'année d'expérience avez-vous?\n",
    "    1. [ ] < 1 an\n",
    "    2. [x] < 2 ans\n",
    "    3. [ ] < 5 ans\n",
    "    4. [ ] \\> 5 ans\n",
    " "
   ]
  },
  {
   "cell_type": "markdown",
   "id": "199242f5",
   "metadata": {},
   "source": [
    "## Partie II\n",
    "### Questions Générales"
   ]
  },
  {
   "cell_type": "markdown",
   "id": "15fae605",
   "metadata": {},
   "source": [
    "\n",
    "1. C'est quoi Git? \n",
    "> \n",Systeme de controle de version distribué
    "2. C'est quoi Sass? \n",
    "> \n",Sass est un langage de script préprocesseur qui est interprété ou compilé dans les feuilles de style en CSS.
    "3. C'est quoi Composer? \n",
    "> \n",Composer est un logiciel gestionnaire de dépendances libre écrit en PHP. Il permet à ses utilisateurs de déclarer et d'installer les bibliothèques dont le projet principal a besoin
    "4. C'est quoi `Object Pool Pattern` (Design Patterns)\n",
    "> \n",Object Pool Pattern est un design pattern creationelqui utilise un ensemble d'objets initialisés maintenus prêts à l'emploi - un "pool" - plutôt que de les allouer et de les détruire à la demande.
    "5. A quoi sert la commande `git diff`?\n",
    ">" permet d'afficher les changemets effectuées lors de chaque commit
  },
  {
   "cell_type": "markdown",
   "id": "90623434",
   "metadata": {},
   "source": [
    "### Javascript"
   ]
  },
  {
   "cell_type": "markdown",
   "id": "a353e13b",
   "metadata": {},
   "source": [
    "1. C'est quoi `CORS`?\n",
    ">\n",Cross Origin Resource sharing sharing est un mécanisme qui permet aux ressources restreintes d'une page web d'être demandées à partir d'un autre domaine en dehors de celui à partir duquel la première ressource a été servie.
    "2. C'est quoi la différence entre `==` et `===`\n",
    ">\n",== : verifie l'égalité des valeurs , puisque === permet de verifier une égalité stricte (vérifier si 2 variable ont la méme valeur et le méme Data Type)
    "3. Qu'est ce que return `if ( \"0\" == \"true\" )`\n",
    "    1. [ ] 0\n",
    "    2. [ ] \"0\"\n",
    "    3. [ ] NULL\n",
    "    4. [x] false\n",
    "4. Qu'est ce que `this`?\n",
    ">" this : permet de referencer un objet
   ]
  },
  {
   "cell_type": "markdown",
   "id": "1c938880",
   "metadata": {},
   "source": [
    "### CSS"
   ]
  },
  {
   "cell_type": "markdown",
   "id": "faa42924",
   "metadata": {},
   "source": [
    "1. Expliquez la différence entre le comportement de `inline` et `block`\n",
    ">\n",
        Display : inline

         Un élément de type inline ne va occuper que la largeur nécessaire à l’affichage de son contenu par défaut ;
         Les éléments de type inline vont venir essayer de se placer en ligne, c’est-à-dire à côté (sur la même ligne) que l’élément qui les précède dans le code HTML ;
         Un élément de type inline peut contenir d’autres éléments de type inline mais ne peut pas contenir d’éléments de type block.
       Display : block

       Un élément de type block va toujours prendre toute la largeur disponible au sein de son élément parent (ou élément conteneur) ;
       Un élément de type block va toujours « aller à la ligne » (créer un saut de ligne avant et après l’élément), c’est-à-dire occuper une nouvelle ligne dans une page et ne jamais se positionner à côté d’un autre élément par défaut ;
       Un élément de type block peut contenir d’autres éléments de type block ou de type inline.
    "2. Est-il possible de créer un site web responsive sans media queries ?\n",
    ">\n",oui,en a la possibilite de creer un site web responsive sans media queries en utilisant le flexbox
    "3. Expliquez les avantages/inconvénients de l'utilisation d'éléments `inline-block`, `flex` ou `float`.\n",
    ">"
    inline-block :
      - qui rend vos éléments inline tout en permettant de les dimensionner(respect margin,padding,widht,height).

   flex :

     - Aligner vos éléments verticalement
     - Créer une galerie / grille moderne
     - Répartir correctement l'espacement
     - Rendre tous vos sites responsives
  float : 
     - cette propriété ne peut pas être employée dans tous les cas comme, par exemple, pour un élément centré ou pour un élément de largeur variable. - On peut éviter de faire flotter le menu en utilisant l'affichage inline-block pout mettre les deux parties cote à cote.
   ]
  },
  {
   "cell_type": "markdown",
   "id": "6e0022a1",
   "metadata": {},
   "source": [
    "### PHP"
   ]
  },
  {
   "cell_type": "markdown",
   "id": "f2827685",
   "metadata": {},
   "source": [
    "1. Écrivez un programme qui imprimera des nombres de 1 à 100, avec les conditions suivantes :\n",
    "    1. A la place de chaque nombre qui peut être divisé par 3, le programme imprimera Dev.\n",
    "    2. A la place de chaque nombre divisible par 5, le programme imprimera Ops.\n",
    "    3. A la place de chaque nombre divisible par 3 et 5, le programme imprimera DevOps.\n",
    "    >\n",
       <?php

           function getInfo(){
               for($i=1 ;$i<=100 ; $i++){
                   if($i % 3 == 0){
                       echo("<div>Dev </div>");
                   }else if($i % 5 == 0){
                       echo("<div>Ops </div>");
                   }else if($i % 3 == 0 && $i % 5 == 0){
                       echo("<div>DevOps </div>");
                   }
               }
           }

           getInfo();
    "2. Ecrire une fonction qui vérifie si paramètre est en fait un nombre premier. \n",
    "`echo isPrime(73) ? 'Prime' : 'Composite';`\n",
    ">\n", 
      <?php
          function isPrime($n){
            for ($i=2; $i <= $n;$i++){
            if ($n % $i == 0){
                return False;
            }
            return True;
           } }

           echo isPrime(73) ? 'Prime' : 'Composite';
    "3. Que signifie\n",
    "```\n",
    "    <?php\n",
    "        $array= [3, 8, -4, 0, 2, -9];\n",
    "        foreach ($array as &$item):\n",
    "            $item = ($item >= 0)? $item : pow($item, 2);\n",
    "        endforeach;\n",
    "        print_r($array);\n",
    "```\n",
    ">" Imprimez les informations sur variables $array d'une manière plus lisible par l'homme, la boucle permet de parcourir le tableau et de stocker dans la variable $item la valeur d'item si la condition est validé si non il permet de stocker le carré de l'item mais si en affiche la valeur de variable item en trouve la derniere valeur
       
   ]
  },
  {
   "cell_type": "markdown",
   "id": "7f6793a1",
   "metadata": {},
   "source": [
    "### DATABASE"
   ]
  },
  {
   "cell_type": "markdown",
   "id": "c18def64",
   "metadata": {},
   "source": [
    "Pour la table employee ci-dessous `(voir employee.sql)`\n",
    "   1. extraire le nombre d'employés par jour s'étant inscrit \n",
         => SELECT COUNT(*) as "nombre d'inscrption",DAY(create_at) as "jour" from employee GROUP BY DAY(create_at)
    "   2. extraire les employés ayant fait l'inscription le `3/10/2021`\n",
         => SELECT * as 'nb d'inscription' FROM employee WHERE DATE_FORMAT(create_at, '%d/%m/%Y') ='3/10/2021'
    "   3. extraire les employés ayant un email qui commence par `consonne` et qui a un chiffre avant le `@`\n",
         => SELECT * FROM employee WHERE email RLIKE '[^iaeouy].*.[0-9]@'
    "   4. mettre first_name et last_name en `lowercase`\n",
         => UPDATE employee SET first_name = LOWER(first_name), last_name = LOWER(last_name)
    "   5. modifier la column `create_at` par `date_creation`\n",
         => ALTER TABLE employee CHANGE create_at date_creation DATETIME NULL DEFAULT NULL
    "   6. c'est quoi la differnce entre `delete` et `truncate`\n",
         => TRUNCATE n'efface pas les données contenues dans les pages, mais marque celles-ci comme réutilisables. DELETE en revanche supprime physiquement les donnée. En conséquence, les données supprimées par un DELETE sont restaurables; les données « supprimées » par un TRUNCATE ne le sont pas.
    "   7. imprimer la liste des employés qui ont un salaire plus que la somme de deux salaires minimum"
         => select e.* from employee e group by e.id,e.first_name,e.last_name,e.email,e.salary,e.date_creation having e.salary >=(SELECT SUM(salary) as sum_price FROM ( SELECT salary FROM employee ORDER BY salary LIMIT 2 ) AS T )
   ]
  },
  {
   "cell_type": "markdown",
   "id": "30c385fd",
   "metadata": {},
   "source": [
    "\n",
    "| id | first_name | last_name   | email                          | salaire | create_at           |\n",
    "|----|------------|-------------|--------------------------------|---------|---------------------|\n",
    "|  1 | Cammy      | Yegorkin    | cyegorkin0@usatoday.com        |   10188 | 2021-10-27 08:04:27 |\n",
    "|  2 | Shae       | Masham      | smasham1@ftc.gov               |   11601 | 2021-10-11 18:17:51 |\n",
    "|  3 | Hadlee     | Oakeshott   | hoakeshott2@ca.gov             |    5797 | 2021-10-13 11:14:04 |\n",
    "|  4 | Mora       | Krzyzowski  | mkrzyzowski3@usgs.gov          |    6665 | 2021-10-01 09:08:31 |\n",
    "|  5 | Jone       | Ellerman    | jellerman4@xing.com            |    8018 | 2021-10-18 06:49:23 |\n",
    "|  6 | Lynda      | Combe       | lcombe5@spotify.com            |    9423 | 2021-10-11 02:36:17 |\n",
    "|  7 | Leon       | Brusin      | lbrusin6@barnesandnoble.com    |    8644 | 2021-10-17 21:10:01 |\n",
    "|  8 | Dionysus   | Letford     | dletford7@simplemachines.org   |    9914 | 2021-10-17 10:45:06 |\n",
    "|  9 | Edithe     | Radborn     | eradborn8@360.cn               |   12534 | 2021-10-15 00:55:30 |\n",
    "| 10 | Darrelle   | Oxtiby      | doxtiby9@taobao.com            |   12483 | 2021-10-06 11:25:44 |\n",
    "| 11 | Kori       | Gissing     | kgissinga@kickstarter.com      |    9001 | 2021-10-03 17:00:23 |\n",
    "| 12 | Jordan     | Speedy      | jspeedyb@comsenz.com           |   10875 | 2021-10-19 07:36:37 |\n",
    "| 13 | Toinette   | Bradneck    | tbradneckc@merriam-webster.com |   12670 | 2021-10-25 10:15:28 |\n",
    "| 14 | Kissie     | Valentino   | kvalentinod@wikimedia.org      |    7285 | 2021-10-20 13:34:10 |\n",
    "| 15 | Letta      | Botwood     | lbotwoode@shutterfly.com       |    6648 | 2021-10-04 06:49:30 |\n",
    "| 16 | Claudetta  | Winram      | cwinramf@wsj.com               |   12494 | 2021-10-03 05:21:26 |\n",
    "| 17 | Joell      | Force       | jforceg@examiner.com           |    6346 | 2021-10-13 22:57:31 |\n",
    "| 18 | Sansone    | Comrie      | scomrieh@histats.com           |   11449 | 2021-10-26 15:04:28 |\n",
    "| 19 | Cherie     | Salmen      | csalmeni@comsenz.com           |    9870 | 2021-10-19 16:36:11 |\n",
    "| 20 | Hervey     | Mildmott    | hmildmottj@t-online.de         |    7783 | 2021-10-28 16:42:29 |\n",
    "| 21 | Dar        | Vasin       | dvasink@mysql.com              |   10383 | 2021-10-29 15:56:34 |\n",
    "| 22 | Dionis     | Riggulsford | driggulsfordl@pcworld.com      |    9191 | 2021-10-01 11:30:40 |\n",
    "| 23 | Dory       | St Clair    | dstclairm@harvard.edu          |   10854 | 2021-10-10 14:42:25 |\n",
    "| 24 | Ardeen     | Vardon      | avardonn@baidu.com             |   11460 | 2021-10-11 02:14:51 |\n",
    "| 25 | Coriss     | Linnemann   | clinnemanno@fc2.com            |    9248 | 2021-10-24 17:15:02 |\n",
    "| 26 | Itch       | Screech     | iscreechp@dedecms.com          |    5451 | 2021-10-21 15:28:28 |\n",
    "| 27 | Ingram     | Thorneley   | ithorneleyq@freewebs.com       |   12764 | 2021-10-21 21:13:23 |\n",
    "| 28 | Ellyn      | Deadman     | edeadmanr@w3.org               |    5630 | 2021-10-21 10:24:22 |\n",
    "| 29 | Brigit     | Pinckney    | bpinckneys@parallels.com       |   10501 | 2021-10-26 02:34:22 |\n",
    "| 30 | Gilbertina | Thurbon     | gthurbont@flavors.me           |    6167 | 2021-10-20 05:28:06 |\n"
   ]
  },
  {
   "cell_type": "markdown",
   "id": "08350c78",
   "metadata": {},
   "source": [
    "## Partie III\n",
    "#### Pratique (web developper)"
   ]
  },
  {
   "attachments": {},
   "cell_type": "markdown",
   "id": "5559a228",
   "metadata": {},
   "source": [
    "- Créer une page web sur la base du design (voir le fichier `web.xd`)\n",
    "- En ouvrant les collapses, chaque point se déplace vers son paragraphe "
   ]
  },
  {
   "cell_type": "markdown",
   "id": "4efbd581",
   "metadata": {},
   "source": [
    "#### Pratique (Mobile developper)"
   ]
  },
  {
   "attachments": {},
   "cell_type": "markdown",
   "id": "c2fc7e0b",
   "metadata": {},
   "source": [
    "- Consultez la vidéo et les images ci-jointes et créer un réplica de l'application mobile (technologie souhaité)\n",
    "- Note : vous devez envoyer une vidéo du résultat de votre travail avec le code source \n"
   ]
  },
  {
   "cell_type": "code",
   "execution_count": null,
   "id": "184297b9",
   "metadata": {},
   "outputs": [],
   "source": []
  }
 ],
 "metadata": {
  "kernelspec": {
   "display_name": "Python 3",
   "language": "python",
   "name": "python3"
  },
  "language_info": {
   "codemirror_mode": {
    "name": "ipython",
    "version": 3
   },
   "file_extension": ".py",
   "mimetype": "text/x-python",
   "name": "python",
   "nbconvert_exporter": "python",
   "pygments_lexer": "ipython3",
   "version": "3.8.8"
  }
 },
 "nbformat": 4,
 "nbformat_minor": 5
}
